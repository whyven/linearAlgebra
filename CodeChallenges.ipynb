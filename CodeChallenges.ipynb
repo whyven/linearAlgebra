{
 "cells": [
  {
   "cell_type": "markdown",
   "metadata": {},
   "source": [
    "# Code Challenges \n",
    "This notebook contains the worked out code challenges from the Udemy linear algebra course. "
   ]
  },
  {
   "cell_type": "code",
   "execution_count": 1,
   "metadata": {},
   "outputs": [],
   "source": [
    "import random as rand\n",
    "import numpy as np\n",
    "import matplotlib.pyplot as plt"
   ]
  },
  {
   "cell_type": "markdown",
   "metadata": {},
   "source": [
    "---\n",
    "## Code Challenge 1 - Lec. 13\n",
    "Create 2 4x6 mactrices of random numbers.<br>\n",
    "Use a for-loop to compute dot products between corresponding columns"
   ]
  },
  {
   "cell_type": "code",
   "execution_count": 6,
   "metadata": {},
   "outputs": [],
   "source": [
    "# -- Matrix size\n",
    "n = 4\n",
    "m = 6"
   ]
  },
  {
   "cell_type": "code",
   "execution_count": 7,
   "metadata": {},
   "outputs": [],
   "source": [
    "# -- Generate random matrix with values between -10 and 10\n",
    "A = np.random.randint(-10, high=10, size=(n,m) )\n",
    "B = np.random.randint(-10, high=10, size=(n,m) )"
   ]
  },
  {
   "cell_type": "code",
   "execution_count": 11,
   "metadata": {},
   "outputs": [
    {
     "name": "stdout",
     "output_type": "stream",
     "text": [
      "A\n",
      "[[ -4   0   7   8   8   3]\n",
      " [  1   5 -10  -3 -10   7]\n",
      " [  0  -3   2 -10 -10   2]\n",
      " [ -9  -7   3  -1  -3  -6]]\n",
      "B\n",
      "[[ 4 -8 -3  0 -3  2]\n",
      " [-1  1  4  3 -8 -3]\n",
      " [ 1 -1 -8  8  6 -5]\n",
      " [-8  9  5  8 -1 -8]]\n"
     ]
    }
   ],
   "source": [
    "print( \"A\" )\n",
    "print( \"{a}\".format(a=A) )\n",
    "print( \"B\" )\n",
    "print( \"{b}\".format(b=B) )"
   ]
  },
  {
   "cell_type": "markdown",
   "metadata": {},
   "source": [
    "To get the column out of a matrix you can use:<br>\n",
    "``` python\n",
    "A[:,i]\n",
    "```\n",
    "The colons in the row spot means give me everything in rows, and i represents the column index"
   ]
  },
  {
   "cell_type": "code",
   "execution_count": 16,
   "metadata": {},
   "outputs": [],
   "source": [
    "c = np.zeros( A.shape[1] )  # --- Initialize a vector to store all dot products\n",
    "# --- Loop through columns\n",
    "for i in range(A.shape[1]):\n",
    "    c[i] = A[:,i].dot(B[:,i])"
   ]
  },
  {
   "cell_type": "code",
   "execution_count": 18,
   "metadata": {},
   "outputs": [
    {
     "name": "stdout",
     "output_type": "stream",
     "text": [
      "The dot products of the columns are: \n",
      "[ 55. -55. -62. -97.  -1.  23.]\n"
     ]
    }
   ],
   "source": [
    "print(\"The dot products of the columns are: \\n{}\".format(c))"
   ]
  },
  {
   "cell_type": "code",
   "execution_count": 20,
   "metadata": {},
   "outputs": [
    {
     "name": "stdout",
     "output_type": "stream",
     "text": [
      "Confirm results: \n",
      "Row1 = 55\n"
     ]
    }
   ],
   "source": [
    "print(\"Confirm results: \\nRow1 = {}\".format((-4*4)+(1*-1)+(0*1)+(-9*-8)) )"
   ]
  },
  {
   "cell_type": "markdown",
   "metadata": {},
   "source": [
    "---\n",
    "## Lecture 16\n",
    "Test whether the dot product sign is invarient to scalar multiplication\n",
    "1. Generate two vectors (R3)\n",
    "2. Generate two scalars\n",
    "3. Compute dot product between vectors\n",
    "4. Compute dot product between the scaled vectors"
   ]
  },
  {
   "cell_type": "code",
   "execution_count": 2,
   "metadata": {},
   "outputs": [],
   "source": [
    "# --- Two vectors of random numbers\n",
    "v1 =  np.random.randint(-10, high=10, size=3 )\n",
    "v2 =  np.random.randint(-10, high=10, size=3 )"
   ]
  },
  {
   "cell_type": "code",
   "execution_count": 3,
   "metadata": {},
   "outputs": [],
   "source": [
    "# --- Two random scalars \n",
    "alpha = np.random.randint(-10, high=10 )\n",
    "beta =  np.random.randint(-10, high=10 )"
   ]
  },
  {
   "cell_type": "code",
   "execution_count": 4,
   "metadata": {},
   "outputs": [
    {
     "name": "stdout",
     "output_type": "stream",
     "text": [
      "Dot product of <v1,v2>: 42\n"
     ]
    }
   ],
   "source": [
    "# --- Dot product\n",
    "print( \"Dot product of <v1,v2>: {}\".format(v1.dot(v2)) )"
   ]
  },
  {
   "cell_type": "code",
   "execution_count": 5,
   "metadata": {},
   "outputs": [
    {
     "name": "stdout",
     "output_type": "stream",
     "text": [
      "Dot product of <alpha*v1,beta*v2>: 1344\n"
     ]
    }
   ],
   "source": [
    "# --- Dot product\n",
    "v1_a = alpha*v1\n",
    "v2_b = beta*v2\n",
    "print( \"Dot product of <alpha*v1,beta*v2>: {}\".format(v1_a.dot(v2_b)) )"
   ]
  },
  {
   "cell_type": "code",
   "execution_count": 10,
   "metadata": {},
   "outputs": [
    {
     "name": "stdout",
     "output_type": "stream",
     "text": [
      "Dot products from with scalar values -5 to 5:\n",
      "be\n",
      "[-5 -4 -3 -2 -1  0  1  2  3  4]\n",
      "[[1050.  840.  630.  420.  210.    0. -210. -420. -630. -840.]\n",
      " [ 840.  672.  504.  336.  168.    0. -168. -336. -504. -672.]\n",
      " [ 630.  504.  378.  252.  126.    0. -126. -252. -378. -504.]\n",
      " [ 420.  336.  252.  168.   84.    0.  -84. -168. -252. -336.]\n",
      " [ 210.  168.  126.   84.   42.    0.  -42.  -84. -126. -168.]\n",
      " [   0.    0.    0.    0.    0.    0.    0.    0.    0.    0.]\n",
      " [-210. -168. -126.  -84.  -42.    0.   42.   84.  126.  168.]\n",
      " [-420. -336. -252. -168.  -84.    0.   84.  168.  252.  336.]\n",
      " [-630. -504. -378. -252. -126.    0.  126.  252.  378.  504.]\n",
      " [-840. -672. -504. -336. -168.    0.  168.  336.  504.  672.]]\n"
     ]
    }
   ],
   "source": [
    "# --- lets test an range of alphas and betas\n",
    "M_d = np.zeros((10,10))\n",
    "for al,ri in zip(range(-5,5,1),range(10)):\n",
    "    for be,ci in zip(range(-5,5,1),range(10)):\n",
    "        v1_a = al*v1\n",
    "        v2_b = be*v2\n",
    "        M_d[ri,ci] = v1_a.dot(v2_b)\n",
    "        \n",
    "# --- print results\n",
    "be=np.array(range(-5,5,1))\n",
    "print( \"Dot products from with scalar values -5 to 5:\")\n",
    "print(\"be\\n{be}\\n{M}\".format(be=be,M=M_d) )"
   ]
  },
  {
   "cell_type": "markdown",
   "metadata": {},
   "source": [
    "The dot product is a scalar, so multiplication of a scalar with a scalar will switch the sign. What does that mean geometrically?  How does the angle between the two vectors change from an obtuse to acute or vise-versa?\n",
    "\n",
    "Well this is actually pretty easy to see..."
   ]
  },
  {
   "cell_type": "code",
   "execution_count": 12,
   "metadata": {},
   "outputs": [
    {
     "name": "stdout",
     "output_type": "stream",
     "text": [
      "Acute? <a,b>: 13\n",
      "Obtuse? <a,-2*b>: -26\n"
     ]
    }
   ],
   "source": [
    "a = np.array( [2, 5] )\n",
    "b = np.array( [-1, 3] )\n",
    "print( \"Acute? <a,b>: {}\".format(a.dot(b)) )\n",
    "print( \"Obtuse? <a,-2*b>: {}\".format(a.dot(-2*b)) )"
   ]
  },
  {
   "cell_type": "code",
   "execution_count": 18,
   "metadata": {},
   "outputs": [
    {
     "data": {
      "image/png": "[encoded data removed]",
      "text/plain": [
       "<Figure size 432x288 with 1 Axes>"
      ]
     },
     "metadata": {},
     "output_type": "display_data"
    }
   ],
   "source": [
    "plt.figure()\n",
    "plt.plot([0,2],[0,5],'b')\n",
    "plt.plot([0,-1],[0,3],'g')\n",
    "plt.plot([0,2],[0,-6],'-r')\n",
    "plt.grid(True)\n",
    "plt.show()"
   ]
  },
  {
   "cell_type": "markdown",
   "metadata": {},
   "source": [
    "---"
   ]
  },
  {
   "cell_type": "markdown",
   "metadata": {},
   "source": [
    "---\n",
    "### Code Challenge 3 - Lecture 17\n",
    "Is the dot product cummutative?.. i.e `a*b == b*a`\n",
    "\n",
    "1. Generate two 100-element random row vectors\n",
    "2. Compute dot product: a with b, b with a\n",
    "3. Generate two elecment integer row vectors\n",
    "4. repeat 2"
   ]
  },
  {
   "cell_type": "code",
   "execution_count": 12,
   "metadata": {},
   "outputs": [],
   "source": [
    "# --- 1. 2, 100-element random vectors\n",
    "a = np.random.rand( 100 )\n",
    "b = np.random.rand( 100 )"
   ]
  },
  {
   "cell_type": "code",
   "execution_count": 13,
   "metadata": {},
   "outputs": [
    {
     "name": "stdout",
     "output_type": "stream",
     "text": [
      "a'b = 26.32607517790203\n",
      "b'a = 26.32607517790203\n"
     ]
    }
   ],
   "source": [
    "# --- 2. Compute dot products\n",
    "print( \"a'b = {}\".format( a.dot(b) ) )\n",
    "print( \"b'a = {}\".format( b.dot(a) ) )"
   ]
  },
  {
   "cell_type": "code",
   "execution_count": 14,
   "metadata": {},
   "outputs": [],
   "source": [
    "# --- 3. Generate 2-element int vects\n",
    "a2 = np.random.randint(100, size=2 )\n",
    "b2 = np.random.randint(100, size=2 )"
   ]
  },
  {
   "cell_type": "code",
   "execution_count": 16,
   "metadata": {},
   "outputs": [
    {
     "name": "stdout",
     "output_type": "stream",
     "text": [
      "a2'b2 = 3458\n",
      "b2'a2 = 3458\n"
     ]
    }
   ],
   "source": [
    "# --- 4. Compute dot products\n",
    "print( \"a2'b2 = {}\".format( a2.dot(b2) ) )\n",
    "print( \"b2'a2 = {}\".format( b2.dot(a2) ) )"
   ]
  },
  {
   "cell_type": "markdown",
   "metadata": {},
   "source": [
    "---\n",
    "## Code Challenge 4 - Lecture 35\n",
    "Determine if scalar multiplication of a Matrix is communicative, i.e. alpha\\*(A + B) = alpha\\*A + alpha\\*B"
   ]
  },
  {
   "cell_type": "code",
   "execution_count": 4,
   "metadata": {},
   "outputs": [],
   "source": [
    "# --- Create 2 Matricies 5x6 filled with random integers\n",
    "A = np.random.randint( 100, size=(5,6) )\n",
    "B = np.random.randint( 100, size=(5,6) )\n",
    "\n",
    "# --- Create a scalar multiplier\n",
    "alpha = 0.1"
   ]
  },
  {
   "cell_type": "code",
   "execution_count": 7,
   "metadata": {},
   "outputs": [
    {
     "name": "stdout",
     "output_type": "stream",
     "text": [
      "A = \n",
      "[[38 72  5 72 79 18]\n",
      " [ 0 45 63 72 43 24]\n",
      " [48 86 48 27 44 68]\n",
      " [ 8 99  2 74 74 87]\n",
      " [25 70 24 25 59 33]]\n",
      "\n",
      "B = \n",
      "[[33 35 84 74 36 89]\n",
      " [ 1 43 68 97 33 97]\n",
      " [ 1 38 52 12 65  8]\n",
      " [86 58 38 25 33 39]\n",
      " [14 69 43 13  2 38]]\n"
     ]
    }
   ],
   "source": [
    "# --- Print them out for aestetics \n",
    "print( \"A = \\n{}\".format( A ) )\n",
    "print()\n",
    "print( \"B = \\n{}\".format( B ) )"
   ]
  },
  {
   "cell_type": "code",
   "execution_count": 8,
   "metadata": {},
   "outputs": [
    {
     "name": "stdout",
     "output_type": "stream",
     "text": [
      "alpha*(A+B) = \n",
      "[[ 7.1 10.7  8.9 14.6 11.5 10.7]\n",
      " [ 0.1  8.8 13.1 16.9  7.6 12.1]\n",
      " [ 4.9 12.4 10.   3.9 10.9  7.6]\n",
      " [ 9.4 15.7  4.   9.9 10.7 12.6]\n",
      " [ 3.9 13.9  6.7  3.8  6.1  7.1]]\n",
      "\n",
      "alpha*A = \n",
      "[[3.8 7.2 0.5 7.2 7.9 1.8]\n",
      " [0.  4.5 6.3 7.2 4.3 2.4]\n",
      " [4.8 8.6 4.8 2.7 4.4 6.8]\n",
      " [0.8 9.9 0.2 7.4 7.4 8.7]\n",
      " [2.5 7.  2.4 2.5 5.9 3.3]]\n",
      "alpha*B = \n",
      "[[3.3 3.5 8.4 7.4 3.6 8.9]\n",
      " [0.1 4.3 6.8 9.7 3.3 9.7]\n",
      " [0.1 3.8 5.2 1.2 6.5 0.8]\n",
      " [8.6 5.8 3.8 2.5 3.3 3.9]\n",
      " [1.4 6.9 4.3 1.3 0.2 3.8]]\n",
      "alpha*A+alpha*B = \n",
      "[[ 7.1 10.7  8.9 14.6 11.5 10.7]\n",
      " [ 0.1  8.8 13.1 16.9  7.6 12.1]\n",
      " [ 4.9 12.4 10.   3.9 10.9  7.6]\n",
      " [ 9.4 15.7  4.   9.9 10.7 12.6]\n",
      " [ 3.9 13.9  6.7  3.8  6.1  7.1]]\n"
     ]
    }
   ],
   "source": [
    "# --- Let's do the math\n",
    "print( \"alpha*(A+B) = \\n{}\".format( alpha*(A+B) ) )\n",
    "print()\n",
    "print( \"alpha*A = \\n{}\".format( alpha*A ) )\n",
    "print( \"alpha*B = \\n{}\".format( alpha*B ) )\n",
    "print( \"alpha*A+alpha*B = \\n{}\".format( alpha*A + alpha*B ) )\n"
   ]
  },
  {
   "cell_type": "markdown",
   "metadata": {},
   "source": [
    "---\n",
    "## Code Challenge 5 - Lecture 41\n",
    "Determine the linearity of trace.<br>\n",
    "- Determine the relationship between tr(A)+tr(B) and tr(A+B)\n",
    "- Determine the relationship between tr(l\\*A) and l\\*tr(A)"
   ]
  },
  {
   "cell_type": "code",
   "execution_count": 8,
   "metadata": {},
   "outputs": [
    {
     "name": "stdout",
     "output_type": "stream",
     "text": [
      "A = \n",
      "[[6 2 4]\n",
      " [6 6 1]\n",
      " [7 9 0]]\n",
      "B = \n",
      "[[8 4 1]\n",
      " [1 4 2]\n",
      " [4 1 3]]\n"
     ]
    }
   ],
   "source": [
    "# --- Create two random Square Matricies\n",
    "m = 3\n",
    "A = np.random.randint(10, size=(m,m))\n",
    "B = np.random.randint(10, size=(m,m))\n",
    "\n",
    "# --- Print Matricies\n",
    "print( \"A = \\n{}\".format(A) )\n",
    "print( \"B = \\n{}\".format(B) )"
   ]
  },
  {
   "cell_type": "code",
   "execution_count": 9,
   "metadata": {},
   "outputs": [
    {
     "name": "stdout",
     "output_type": "stream",
     "text": [
      "tr(A)+tr(B) = \n",
      "27\n",
      "tr(A + B) = \n",
      "27\n"
     ]
    }
   ],
   "source": [
    "# --- Test tr(A)+tr(B)\n",
    "temp = np.matrix.trace( A ) + np.matrix.trace( B )\n",
    "print( \"tr(A)+tr(B) = \\n{}\".format( temp ) ) \n",
    "\n",
    "# --- Test tr(A+B)\n",
    "temp = np.matrix.trace( A + B )\n",
    "print( \"tr(A + B) = \\n{}\".format( temp ) ) "
   ]
  },
  {
   "cell_type": "code",
   "execution_count": 14,
   "metadata": {},
   "outputs": [
    {
     "name": "stdout",
     "output_type": "stream",
     "text": [
      "l = 0.9788360198535317\n",
      "\n",
      "tr(l*A) = \n",
      "11.746032238242382\n",
      "\n",
      "tr(l*B) = \n",
      "14.682540297802976\n",
      "\n",
      "l*tr(A) = \n",
      "11.746032238242382\n",
      "\n",
      "l*tr(B) = \n",
      "14.682540297802976\n"
     ]
    }
   ],
   "source": [
    "# --- Create a random scalar\n",
    "l = 5*np.random.random()\n",
    "print( \"l = {}\".format(l) )\n",
    "print()\n",
    "\n",
    "# --- Test tr(l*A)\n",
    "temp1 = np.matrix.trace( l*A )\n",
    "temp2 = np.matrix.trace( l*B )\n",
    "print( \"tr(l*A) = \\n{}\".format( temp1 ) )\n",
    "print()\n",
    "print( \"tr(l*B) = \\n{}\".format( temp2 ) )\n",
    "print()\n",
    "\n",
    "# --- Test l*tr(A)\n",
    "temp1 = l*np.matrix.trace( A )\n",
    "temp2 = l*np.matrix.trace( B )\n",
    "print( \"l*tr(A) = \\n{}\".format( temp1 ) )\n",
    "print()\n",
    "print( \"l*tr(B) = \\n{}\".format( temp2 ) )"
   ]
  },
  {
   "cell_type": "markdown",
   "metadata": {},
   "source": [
    "**NOTE**: Trace is only for square matricies!"
   ]
  },
  {
   "cell_type": "markdown",
   "metadata": {},
   "source": [
    "---\n",
    "## Code Challenge 6 - Lecture 45\n",
    "Implement layered matrix multiplication and compare with standard matrix multiplication."
   ]
  },
  {
   "cell_type": "code",
   "execution_count": 2,
   "metadata": {},
   "outputs": [],
   "source": [
    "# --- Create random matricies\n",
    "m = 4 # rows\n",
    "n = 3 # columns\n",
    "\n",
    "A = np.random.randint( 10, size=(m,n) )\n",
    "# -- -- Switching col and rows because matrix mult will be AB\n",
    "B = np.random.randint( 10, size=(n,m) )"
   ]
  },
  {
   "cell_type": "code",
   "execution_count": 3,
   "metadata": {},
   "outputs": [
    {
     "name": "stdout",
     "output_type": "stream",
     "text": [
      "A = \n",
      "[[3 6 8]\n",
      " [0 6 3]\n",
      " [6 7 5]\n",
      " [1 1 8]]\n",
      "B = \n",
      "[[4 2 3 0]\n",
      " [6 1 6 0]\n",
      " [1 0 6 5]]\n"
     ]
    }
   ],
   "source": [
    "# --- prints... \n",
    "# --- Print Matricies\n",
    "print( \"A = \\n{}\".format(A) )\n",
    "print( \"B = \\n{}\".format(B) )"
   ]
  },
  {
   "cell_type": "markdown",
   "metadata": {},
   "source": [
    "Layered Matrix mult is done by creating outer products between a column of one matrix by the rows of the other.\n",
    "1. Create for loop that takes one column of A and creates an output product with a row of B\n",
    "2. Sum each matrix"
   ]
  },
  {
   "cell_type": "code",
   "execution_count": 6,
   "metadata": {},
   "outputs": [
    {
     "name": "stdout",
     "output_type": "stream",
     "text": [
      "a = \n",
      "[3 0 6 1]\n",
      "\n",
      "b = \n",
      "[4 2 3 0]\n",
      "\n",
      "c = \n",
      "[[12  6  9  0]\n",
      " [ 0  0  0  0]\n",
      " [24 12 18  0]\n",
      " [ 4  2  3  0]]\n",
      "\n",
      "C = \n",
      "[[12.  6.  9.  0.]\n",
      " [ 0.  0.  0.  0.]\n",
      " [24. 12. 18.  0.]\n",
      " [ 4.  2.  3.  0.]]\n",
      "\n",
      "a = \n",
      "[6 6 7 1]\n",
      "\n",
      "b = \n",
      "[6 1 6 0]\n",
      "\n",
      "c = \n",
      "[[36  6 36  0]\n",
      " [36  6 36  0]\n",
      " [42  7 42  0]\n",
      " [ 6  1  6  0]]\n",
      "\n",
      "C = \n",
      "[[48. 12. 45.  0.]\n",
      " [36.  6. 36.  0.]\n",
      " [66. 19. 60.  0.]\n",
      " [10.  3.  9.  0.]]\n",
      "\n",
      "a = \n",
      "[8 3 5 8]\n",
      "\n",
      "b = \n",
      "[1 0 6 5]\n",
      "\n",
      "c = \n",
      "[[ 8  0 48 40]\n",
      " [ 3  0 18 15]\n",
      " [ 5  0 30 25]\n",
      " [ 8  0 48 40]]\n",
      "\n",
      "C = \n",
      "[[56. 12. 93. 40.]\n",
      " [39.  6. 54. 15.]\n",
      " [71. 19. 90. 25.]\n",
      " [18.  3. 57. 40.]]\n",
      "\n"
     ]
    }
   ],
   "source": [
    "# --- We want A colums and B rows. I am going to index through the matrices\n",
    "C = np.zeros( shape=(m,m) ) # initialize the product matrix\n",
    "for i, j in zip( range(n), range(m) ):\n",
    "    a = A[:,i]\n",
    "    b = B[j,:]\n",
    "    # --- Outer\n",
    "    c = np.outer( a, b )\n",
    "    C += c\n",
    "    # --- Print Matricies\n",
    "    print( \"a = \\n{}\".format(a) )\n",
    "    print()\n",
    "    print( \"b = \\n{}\".format(b) )\n",
    "    print()\n",
    "    print( \"c = \\n{}\".format(c) )\n",
    "    print()\n",
    "    print( \"C = \\n{}\".format(C) )\n",
    "    print()"
   ]
  },
  {
   "cell_type": "code",
   "execution_count": 9,
   "metadata": {},
   "outputs": [
    {
     "name": "stdout",
     "output_type": "stream",
     "text": [
      "A*B = \n",
      "[[56 12 93 40]\n",
      " [39  6 54 15]\n",
      " [71 19 90 25]\n",
      " [18  3 57 40]]\n"
     ]
    }
   ],
   "source": [
    "# --- Print standard Matrix mult to compare\n",
    "print( \"A*B = \\n{}\".format( np.matmul(A,B) ) )  "
   ]
  },
  {
   "cell_type": "markdown",
   "metadata": {},
   "source": [
    "**NOTE**: Had to look up how to compute matrix multiplication in python.  The function is ***np.matmul***"
   ]
  },
  {
   "cell_type": "code",
   "execution_count": null,
   "metadata": {},
   "outputs": [],
   "source": []
  }
 ],
 "metadata": {
  "kernelspec": {
   "display_name": "Python 3",
   "language": "python",
   "name": "python3"
  },
  "language_info": {
   "codemirror_mode": {
    "name": "ipython",
    "version": 3
   },
   "file_extension": ".py",
   "mimetype": "text/x-python",
   "name": "python",
   "nbconvert_exporter": "python",
   "pygments_lexer": "ipython3",
   "version": "3.7.3"
  }
 },
 "nbformat": 4,
 "nbformat_minor": 2
}
