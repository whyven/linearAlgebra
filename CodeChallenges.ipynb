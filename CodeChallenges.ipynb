{
 "cells": [
  {
   "cell_type": "markdown",
   "metadata": {},
   "source": [
    "# Code Challenges \n",
    "This notebook contains the worked out code challenges from the Udemy linear algebra course. "
   ]
  },
  {
   "cell_type": "code",
   "execution_count": 1,
   "metadata": {},
   "outputs": [],
   "source": [
    "import random as rand\n",
    "import numpy as np\n",
    "import matplotlib.pyplot as plt"
   ]
  },
  {
   "cell_type": "markdown",
   "metadata": {},
   "source": [
    "---\n",
    "## Code Challenge 1 - Lec. 13\n",
    "Create 2 4x6 mactrices of random numbers.<br>\n",
    "Use a for-loop to compute dot products between corresponding columns"
   ]
  },
  {
   "cell_type": "code",
   "execution_count": 6,
   "metadata": {},
   "outputs": [],
   "source": [
    "# -- Matrix size\n",
    "n = 4\n",
    "m = 6"
   ]
  },
  {
   "cell_type": "code",
   "execution_count": 7,
   "metadata": {},
   "outputs": [],
   "source": [
    "# -- Generate random matrix with values between -10 and 10\n",
    "A = np.random.randint(-10, high=10, size=(n,m) )\n",
    "B = np.random.randint(-10, high=10, size=(n,m) )"
   ]
  },
  {
   "cell_type": "code",
   "execution_count": 11,
   "metadata": {},
   "outputs": [
    {
     "name": "stdout",
     "output_type": "stream",
     "text": [
      "A\n",
      "[[ -4   0   7   8   8   3]\n",
      " [  1   5 -10  -3 -10   7]\n",
      " [  0  -3   2 -10 -10   2]\n",
      " [ -9  -7   3  -1  -3  -6]]\n",
      "B\n",
      "[[ 4 -8 -3  0 -3  2]\n",
      " [-1  1  4  3 -8 -3]\n",
      " [ 1 -1 -8  8  6 -5]\n",
      " [-8  9  5  8 -1 -8]]\n"
     ]
    }
   ],
   "source": [
    "print( \"A\" )\n",
    "print( \"{a}\".format(a=A) )\n",
    "print( \"B\" )\n",
    "print( \"{b}\".format(b=B) )"
   ]
  },
  {
   "cell_type": "markdown",
   "metadata": {},
   "source": [
    "To get the column out of a matrix you can use:<br>\n",
    "``` python\n",
    "A[:,i]\n",
    "```\n",
    "The colons in the row spot means give me everything in rows, and i represents the column index"
   ]
  },
  {
   "cell_type": "code",
   "execution_count": 16,
   "metadata": {},
   "outputs": [],
   "source": [
    "c = np.zeros( A.shape[1] )  # --- Initialize a vector to store all dot products\n",
    "# --- Loop through columns\n",
    "for i in range(A.shape[1]):\n",
    "    c[i] = A[:,i].dot(B[:,i])"
   ]
  },
  {
   "cell_type": "code",
   "execution_count": 18,
   "metadata": {},
   "outputs": [
    {
     "name": "stdout",
     "output_type": "stream",
     "text": [
      "The dot products of the columns are: \n",
      "[ 55. -55. -62. -97.  -1.  23.]\n"
     ]
    }
   ],
   "source": [
    "print(\"The dot products of the columns are: \\n{}\".format(c))"
   ]
  },
  {
   "cell_type": "code",
   "execution_count": 20,
   "metadata": {},
   "outputs": [
    {
     "name": "stdout",
     "output_type": "stream",
     "text": [
      "Confirm results: \n",
      "Row1 = 55\n"
     ]
    }
   ],
   "source": [
    "print(\"Confirm results: \\nRow1 = {}\".format((-4*4)+(1*-1)+(0*1)+(-9*-8)) )"
   ]
  },
  {
   "cell_type": "markdown",
   "metadata": {},
   "source": [
    "---\n",
    "## Lecture 16\n",
    "Test whether the dot product sign is invarient to scalar multiplication\n",
    "1. Generate two vectors (R3)\n",
    "2. Generate two scalars\n",
    "3. Compute dot product between vectors\n",
    "4. Compute dot product between the scaled vectors"
   ]
  },
  {
   "cell_type": "code",
   "execution_count": 2,
   "metadata": {},
   "outputs": [],
   "source": [
    "# --- Two vectors of random numbers\n",
    "v1 =  np.random.randint(-10, high=10, size=3 )\n",
    "v2 =  np.random.randint(-10, high=10, size=3 )"
   ]
  },
  {
   "cell_type": "code",
   "execution_count": 3,
   "metadata": {},
   "outputs": [],
   "source": [
    "# --- Two random scalars \n",
    "alpha = np.random.randint(-10, high=10 )\n",
    "beta =  np.random.randint(-10, high=10 )"
   ]
  },
  {
   "cell_type": "code",
   "execution_count": 4,
   "metadata": {},
   "outputs": [
    {
     "name": "stdout",
     "output_type": "stream",
     "text": [
      "Dot product of <v1,v2>: 42\n"
     ]
    }
   ],
   "source": [
    "# --- Dot product\n",
    "print( \"Dot product of <v1,v2>: {}\".format(v1.dot(v2)) )"
   ]
  },
  {
   "cell_type": "code",
   "execution_count": 5,
   "metadata": {},
   "outputs": [
    {
     "name": "stdout",
     "output_type": "stream",
     "text": [
      "Dot product of <alpha*v1,beta*v2>: 1344\n"
     ]
    }
   ],
   "source": [
    "# --- Dot product\n",
    "v1_a = alpha*v1\n",
    "v2_b = beta*v2\n",
    "print( \"Dot product of <alpha*v1,beta*v2>: {}\".format(v1_a.dot(v2_b)) )"
   ]
  },
  {
   "cell_type": "code",
   "execution_count": 10,
   "metadata": {},
   "outputs": [
    {
     "name": "stdout",
     "output_type": "stream",
     "text": [
      "Dot products from with scalar values -5 to 5:\n",
      "be\n",
      "[-5 -4 -3 -2 -1  0  1  2  3  4]\n",
      "[[1050.  840.  630.  420.  210.    0. -210. -420. -630. -840.]\n",
      " [ 840.  672.  504.  336.  168.    0. -168. -336. -504. -672.]\n",
      " [ 630.  504.  378.  252.  126.    0. -126. -252. -378. -504.]\n",
      " [ 420.  336.  252.  168.   84.    0.  -84. -168. -252. -336.]\n",
      " [ 210.  168.  126.   84.   42.    0.  -42.  -84. -126. -168.]\n",
      " [   0.    0.    0.    0.    0.    0.    0.    0.    0.    0.]\n",
      " [-210. -168. -126.  -84.  -42.    0.   42.   84.  126.  168.]\n",
      " [-420. -336. -252. -168.  -84.    0.   84.  168.  252.  336.]\n",
      " [-630. -504. -378. -252. -126.    0.  126.  252.  378.  504.]\n",
      " [-840. -672. -504. -336. -168.    0.  168.  336.  504.  672.]]\n"
     ]
    }
   ],
   "source": [
    "# --- lets test an range of alphas and betas\n",
    "M_d = np.zeros((10,10))\n",
    "for al,ri in zip(range(-5,5,1),range(10)):\n",
    "    for be,ci in zip(range(-5,5,1),range(10)):\n",
    "        v1_a = al*v1\n",
    "        v2_b = be*v2\n",
    "        M_d[ri,ci] = v1_a.dot(v2_b)\n",
    "        \n",
    "# --- print results\n",
    "be=np.array(range(-5,5,1))\n",
    "print( \"Dot products from with scalar values -5 to 5:\")\n",
    "print(\"be\\n{be}\\n{M}\".format(be=be,M=M_d) )"
   ]
  },
  {
   "cell_type": "markdown",
   "metadata": {},
   "source": [
    "The dot product is a scalar, so multiplication of a scalar with a scalar will switch the sign. What does that mean geometrically?  How does the angle between the two vectors change from an obtuse to acute or vise-versa?\n",
    "\n",
    "Well this is actually pretty easy to see..."
   ]
  },
  {
   "cell_type": "code",
   "execution_count": 12,
   "metadata": {},
   "outputs": [
    {
     "name": "stdout",
     "output_type": "stream",
     "text": [
      "Acute? <a,b>: 13\n",
      "Obtuse? <a,-2*b>: -26\n"
     ]
    }
   ],
   "source": [
    "a = np.array( [2, 5] )\n",
    "b = np.array( [-1, 3] )\n",
    "print( \"Acute? <a,b>: {}\".format(a.dot(b)) )\n",
    "print( \"Obtuse? <a,-2*b>: {}\".format(a.dot(-2*b)) )"
   ]
  },
  {
   "cell_type": "code",
   "execution_count": 18,
   "metadata": {},
   "outputs": [
    {
     "data": {
      "image/png": "[encoded data removed]",
      "text/plain": [
       "<Figure size 432x288 with 1 Axes>"
      ]
     },
     "metadata": {},
     "output_type": "display_data"
    }
   ],
   "source": [
    "plt.figure()\n",
    "plt.plot([0,2],[0,5],'b')\n",
    "plt.plot([0,-1],[0,3],'g')\n",
    "plt.plot([0,2],[0,-6],'-r')\n",
    "plt.grid(True)\n",
    "plt.show()"
   ]
  },
  {
   "cell_type": "markdown",
   "metadata": {},
   "source": [
    "---"
   ]
  },
  {
   "cell_type": "markdown",
   "metadata": {},
   "source": [
    "---\n",
    "### Code Challenge 3 - Lecture 17\n",
    "Is the dot product cummutative?.. i.e `a*b == b*a`\n",
    "\n",
    "1. Generate two 100-element random row vectors\n",
    "2. Compute dot product: a with b, b with a\n",
    "3. Generate two elecment integer row vectors\n",
    "4. repeat 2"
   ]
  },
  {
   "cell_type": "code",
   "execution_count": 12,
   "metadata": {},
   "outputs": [],
   "source": [
    "# --- 1. 2, 100-element random vectors\n",
    "a = np.random.rand( 100 )\n",
    "b = np.random.rand( 100 )"
   ]
  },
  {
   "cell_type": "code",
   "execution_count": 13,
   "metadata": {},
   "outputs": [
    {
     "name": "stdout",
     "output_type": "stream",
     "text": [
      "a'b = 26.32607517790203\n",
      "b'a = 26.32607517790203\n"
     ]
    }
   ],
   "source": [
    "# --- 2. Compute dot products\n",
    "print( \"a'b = {}\".format( a.dot(b) ) )\n",
    "print( \"b'a = {}\".format( b.dot(a) ) )"
   ]
  },
  {
   "cell_type": "code",
   "execution_count": 14,
   "metadata": {},
   "outputs": [],
   "source": [
    "# --- 3. Generate 2-element int vects\n",
    "a2 = np.random.randint(100, size=2 )\n",
    "b2 = np.random.randint(100, size=2 )"
   ]
  },
  {
   "cell_type": "code",
   "execution_count": 16,
   "metadata": {},
   "outputs": [
    {
     "name": "stdout",
     "output_type": "stream",
     "text": [
      "a2'b2 = 3458\n",
      "b2'a2 = 3458\n"
     ]
    }
   ],
   "source": [
    "# --- 4. Compute dot products\n",
    "print( \"a2'b2 = {}\".format( a2.dot(b2) ) )\n",
    "print( \"b2'a2 = {}\".format( b2.dot(a2) ) )"
   ]
  },
  {
   "cell_type": "markdown",
   "metadata": {},
   "source": [
    "---\n",
    "## Code Challenge 4 - Lecture 35\n",
    "Determine if scalar multiplication of a Matrix is communicative, i.e. alpha\\*(A + B) = alpha\\*A + alpha\\*B"
   ]
  },
  {
   "cell_type": "code",
   "execution_count": 4,
   "metadata": {},
   "outputs": [],
   "source": [
    "# --- Create 2 Matricies 5x6 filled with random integers\n",
    "A = np.random.randint( 100, size=(5,6) )\n",
    "B = np.random.randint( 100, size=(5,6) )\n",
    "\n",
    "# --- Create a scalar multiplier\n",
    "alpha = 0.1"
   ]
  },
  {
   "cell_type": "code",
   "execution_count": 7,
   "metadata": {},
   "outputs": [
    {
     "name": "stdout",
     "output_type": "stream",
     "text": [
      "A = \n",
      "[[38 72  5 72 79 18]\n",
      " [ 0 45 63 72 43 24]\n",
      " [48 86 48 27 44 68]\n",
      " [ 8 99  2 74 74 87]\n",
      " [25 70 24 25 59 33]]\n",
      "\n",
      "B = \n",
      "[[33 35 84 74 36 89]\n",
      " [ 1 43 68 97 33 97]\n",
      " [ 1 38 52 12 65  8]\n",
      " [86 58 38 25 33 39]\n",
      " [14 69 43 13  2 38]]\n"
     ]
    }
   ],
   "source": [
    "# --- Print them out for aestetics \n",
    "print( \"A = \\n{}\".format( A ) )\n",
    "print()\n",
    "print( \"B = \\n{}\".format( B ) )"
   ]
  },
  {
   "cell_type": "code",
   "execution_count": 8,
   "metadata": {},
   "outputs": [
    {
     "name": "stdout",
     "output_type": "stream",
     "text": [
      "alpha*(A+B) = \n",
      "[[ 7.1 10.7  8.9 14.6 11.5 10.7]\n",
      " [ 0.1  8.8 13.1 16.9  7.6 12.1]\n",
      " [ 4.9 12.4 10.   3.9 10.9  7.6]\n",
      " [ 9.4 15.7  4.   9.9 10.7 12.6]\n",
      " [ 3.9 13.9  6.7  3.8  6.1  7.1]]\n",
      "\n",
      "alpha*A = \n",
      "[[3.8 7.2 0.5 7.2 7.9 1.8]\n",
      " [0.  4.5 6.3 7.2 4.3 2.4]\n",
      " [4.8 8.6 4.8 2.7 4.4 6.8]\n",
      " [0.8 9.9 0.2 7.4 7.4 8.7]\n",
      " [2.5 7.  2.4 2.5 5.9 3.3]]\n",
      "alpha*B = \n",
      "[[3.3 3.5 8.4 7.4 3.6 8.9]\n",
      " [0.1 4.3 6.8 9.7 3.3 9.7]\n",
      " [0.1 3.8 5.2 1.2 6.5 0.8]\n",
      " [8.6 5.8 3.8 2.5 3.3 3.9]\n",
      " [1.4 6.9 4.3 1.3 0.2 3.8]]\n",
      "alpha*A+alpha*B = \n",
      "[[ 7.1 10.7  8.9 14.6 11.5 10.7]\n",
      " [ 0.1  8.8 13.1 16.9  7.6 12.1]\n",
      " [ 4.9 12.4 10.   3.9 10.9  7.6]\n",
      " [ 9.4 15.7  4.   9.9 10.7 12.6]\n",
      " [ 3.9 13.9  6.7  3.8  6.1  7.1]]\n"
     ]
    }
   ],
   "source": [
    "# --- Let's do the math\n",
    "print( \"alpha*(A+B) = \\n{}\".format( alpha*(A+B) ) )\n",
    "print()\n",
    "print( \"alpha*A = \\n{}\".format( alpha*A ) )\n",
    "print( \"alpha*B = \\n{}\".format( alpha*B ) )\n",
    "print( \"alpha*A+alpha*B = \\n{}\".format( alpha*A + alpha*B ) )\n"
   ]
  },
  {
   "cell_type": "markdown",
   "metadata": {},
   "source": [
    "---\n",
    "## Code Challenge 5 - Lecture 41\n",
    "Determine the linearity of trace.<br>\n",
    "- Determine the relationship between tr(A)+tr(B) and tr(A+B)\n",
    "- Determine the relationship between tr(l\\*A) and l\\*tr(A)"
   ]
  },
  {
   "cell_type": "code",
   "execution_count": 8,
   "metadata": {},
   "outputs": [
    {
     "name": "stdout",
     "output_type": "stream",
     "text": [
      "A = \n",
      "[[6 2 4]\n",
      " [6 6 1]\n",
      " [7 9 0]]\n",
      "B = \n",
      "[[8 4 1]\n",
      " [1 4 2]\n",
      " [4 1 3]]\n"
     ]
    }
   ],
   "source": [
    "# --- Create two random Square Matricies\n",
    "m = 3\n",
    "A = np.random.randint(10, size=(m,m))\n",
    "B = np.random.randint(10, size=(m,m))\n",
    "\n",
    "# --- Print Matricies\n",
    "print( \"A = \\n{}\".format(A) )\n",
    "print( \"B = \\n{}\".format(B) )"
   ]
  },
  {
   "cell_type": "code",
   "execution_count": 9,
   "metadata": {},
   "outputs": [
    {
     "name": "stdout",
     "output_type": "stream",
     "text": [
      "tr(A)+tr(B) = \n",
      "27\n",
      "tr(A + B) = \n",
      "27\n"
     ]
    }
   ],
   "source": [
    "# --- Test tr(A)+tr(B)\n",
    "temp = np.matrix.trace( A ) + np.matrix.trace( B )\n",
    "print( \"tr(A)+tr(B) = \\n{}\".format( temp ) ) \n",
    "\n",
    "# --- Test tr(A+B)\n",
    "temp = np.matrix.trace( A + B )\n",
    "print( \"tr(A + B) = \\n{}\".format( temp ) ) "
   ]
  },
  {
   "cell_type": "code",
   "execution_count": 14,
   "metadata": {},
   "outputs": [
    {
     "name": "stdout",
     "output_type": "stream",
     "text": [
      "l = 0.9788360198535317\n",
      "\n",
      "tr(l*A) = \n",
      "11.746032238242382\n",
      "\n",
      "tr(l*B) = \n",
      "14.682540297802976\n",
      "\n",
      "l*tr(A) = \n",
      "11.746032238242382\n",
      "\n",
      "l*tr(B) = \n",
      "14.682540297802976\n"
     ]
    }
   ],
   "source": [
    "# --- Create a random scalar\n",
    "l = 5*np.random.random()\n",
    "print( \"l = {}\".format(l) )\n",
    "print()\n",
    "\n",
    "# --- Test tr(l*A)\n",
    "temp1 = np.matrix.trace( l*A )\n",
    "temp2 = np.matrix.trace( l*B )\n",
    "print( \"tr(l*A) = \\n{}\".format( temp1 ) )\n",
    "print()\n",
    "print( \"tr(l*B) = \\n{}\".format( temp2 ) )\n",
    "print()\n",
    "\n",
    "# --- Test l*tr(A)\n",
    "temp1 = l*np.matrix.trace( A )\n",
    "temp2 = l*np.matrix.trace( B )\n",
    "print( \"l*tr(A) = \\n{}\".format( temp1 ) )\n",
    "print()\n",
    "print( \"l*tr(B) = \\n{}\".format( temp2 ) )"
   ]
  },
  {
   "cell_type": "markdown",
   "metadata": {},
   "source": [
    "**NOTE**: Trace is only for square matricies!"
   ]
  },
  {
   "cell_type": "markdown",
   "metadata": {},
   "source": [
    "---\n",
    "## Code Challenge 6 - Lecture 45\n",
    "Implement layered matrix multiplication and compare with standard matrix multiplication."
   ]
  },
  {
   "cell_type": "code",
   "execution_count": 2,
   "metadata": {},
   "outputs": [],
   "source": [
    "# --- Create random matricies\n",
    "m = 4 # rows\n",
    "n = 3 # columns\n",
    "\n",
    "A = np.random.randint( 10, size=(m,n) )\n",
    "# -- -- Switching col and rows because matrix mult will be AB\n",
    "B = np.random.randint( 10, size=(n,m) )"
   ]
  },
  {
   "cell_type": "code",
   "execution_count": 3,
   "metadata": {},
   "outputs": [
    {
     "name": "stdout",
     "output_type": "stream",
     "text": [
      "A = \n",
      "[[3 6 8]\n",
      " [0 6 3]\n",
      " [6 7 5]\n",
      " [1 1 8]]\n",
      "B = \n",
      "[[4 2 3 0]\n",
      " [6 1 6 0]\n",
      " [1 0 6 5]]\n"
     ]
    }
   ],
   "source": [
    "# --- prints... \n",
    "# --- Print Matricies\n",
    "print( \"A = \\n{}\".format(A) )\n",
    "print( \"B = \\n{}\".format(B) )"
   ]
  },
  {
   "cell_type": "markdown",
   "metadata": {},
   "source": [
    "Layered Matrix mult is done by creating outer products between a column of one matrix by the rows of the other.\n",
    "1. Create for loop that takes one column of A and creates an output product with a row of B\n",
    "2. Sum each matrix"
   ]
  },
  {
   "cell_type": "code",
   "execution_count": 6,
   "metadata": {},
   "outputs": [
    {
     "name": "stdout",
     "output_type": "stream",
     "text": [
      "a = \n",
      "[3 0 6 1]\n",
      "\n",
      "b = \n",
      "[4 2 3 0]\n",
      "\n",
      "c = \n",
      "[[12  6  9  0]\n",
      " [ 0  0  0  0]\n",
      " [24 12 18  0]\n",
      " [ 4  2  3  0]]\n",
      "\n",
      "C = \n",
      "[[12.  6.  9.  0.]\n",
      " [ 0.  0.  0.  0.]\n",
      " [24. 12. 18.  0.]\n",
      " [ 4.  2.  3.  0.]]\n",
      "\n",
      "a = \n",
      "[6 6 7 1]\n",
      "\n",
      "b = \n",
      "[6 1 6 0]\n",
      "\n",
      "c = \n",
      "[[36  6 36  0]\n",
      " [36  6 36  0]\n",
      " [42  7 42  0]\n",
      " [ 6  1  6  0]]\n",
      "\n",
      "C = \n",
      "[[48. 12. 45.  0.]\n",
      " [36.  6. 36.  0.]\n",
      " [66. 19. 60.  0.]\n",
      " [10.  3.  9.  0.]]\n",
      "\n",
      "a = \n",
      "[8 3 5 8]\n",
      "\n",
      "b = \n",
      "[1 0 6 5]\n",
      "\n",
      "c = \n",
      "[[ 8  0 48 40]\n",
      " [ 3  0 18 15]\n",
      " [ 5  0 30 25]\n",
      " [ 8  0 48 40]]\n",
      "\n",
      "C = \n",
      "[[56. 12. 93. 40.]\n",
      " [39.  6. 54. 15.]\n",
      " [71. 19. 90. 25.]\n",
      " [18.  3. 57. 40.]]\n",
      "\n"
     ]
    }
   ],
   "source": [
    "# --- We want A colums and B rows. I am going to index through the matrices\n",
    "C = np.zeros( shape=(m,m) ) # initialize the product matrix\n",
    "for i, j in zip( range(n), range(m) ):\n",
    "    a = A[:,i]\n",
    "    b = B[j,:]\n",
    "    # --- Outer\n",
    "    c = np.outer( a, b )\n",
    "    C += c\n",
    "    # --- Print Matricies\n",
    "    print( \"a = \\n{}\".format(a) )\n",
    "    print()\n",
    "    print( \"b = \\n{}\".format(b) )\n",
    "    print()\n",
    "    print( \"c = \\n{}\".format(c) )\n",
    "    print()\n",
    "    print( \"C = \\n{}\".format(C) )\n",
    "    print()"
   ]
  },
  {
   "cell_type": "code",
   "execution_count": 9,
   "metadata": {},
   "outputs": [
    {
     "name": "stdout",
     "output_type": "stream",
     "text": [
      "A*B = \n",
      "[[56 12 93 40]\n",
      " [39  6 54 15]\n",
      " [71 19 90 25]\n",
      " [18  3 57 40]]\n"
     ]
    }
   ],
   "source": [
    "# --- Print standard Matrix mult to compare\n",
    "print( \"A*B = \\n{}\".format( np.matmul(A,B) ) )  "
   ]
  },
  {
   "cell_type": "markdown",
   "metadata": {},
   "source": [
    "**NOTE**: Had to look up how to compute matrix multiplication in python.  The function is ***np.matmul***"
   ]
  },
  {
   "cell_type": "markdown",
   "metadata": {},
   "source": [
    "---\n",
    "## Code Challenge 50\n",
    "Investigating the relationship between the angle the \"un-pure\" rotation matrix"
   ]
  },
  {
   "cell_type": "code",
   "execution_count": 3,
   "metadata": {},
   "outputs": [],
   "source": [
    "# --- Vector\n",
    "v = np.array( [2, -3] )"
   ]
  },
  {
   "cell_type": "code",
   "execution_count": 4,
   "metadata": {},
   "outputs": [],
   "source": [
    "# --- Test systematically the effect of the angle\n",
    "w = []                  # --- Holds Rotated Vector\n",
    "norm_u = np.zeros(32)   # --- Holds length of rotated vector\n",
    "norm_p = np.zeros(32)   # --- Holds length of rotated vector\n",
    "for i,j in zip(np.linspace(0, 2*np.pi, 32), range(32)):\n",
    "    # --- Define the angle\n",
    "    theta = i\n",
    "    # --- pure rotation matrix\n",
    "    p = np.array( [ [np.cos(theta), -1*np.sin(theta)], [np.sin(theta), np.cos(theta)] ] )\n",
    "    # --- Un-pure rotation matrix\n",
    "    u = np.array( [ [2*np.cos(theta), -1*np.sin(theta)], [np.sin(theta), np.cos(theta)] ] )\n",
    "    # --- Rotate baby...\n",
    "    ru = u@v.T\n",
    "    rp = p@v.T\n",
    "    w.append( ru )\n",
    "    norm_u[ j ]= ( np.linalg.norm(ru) )\n",
    "    norm_p[ j ]= ( np.linalg.norm(rp) )"
   ]
  },
  {
   "cell_type": "code",
   "execution_count": 5,
   "metadata": {},
   "outputs": [
    {
     "data": {
      "image/png": "[encoded data removed]",
      "text/plain": [
       "<Figure size 432x288 with 1 Axes>"
      ]
     },
     "metadata": {
      "needs_background": "light"
     },
     "output_type": "display_data"
    }
   ],
   "source": [
    "# plot them\n",
    "fig, ax = plt.subplots()\n",
    "ax.plot([0,v[0]],[0,v[1]],label='v')\n",
    "# --- All the rotations...\n",
    "for r, i in zip(w, np.linspace(0, 2.*np.pi, 32) ):\n",
    "    ax.plot([0,r[0]],[0,r[1]],label='{:0.3f}'.format(i))  \n",
    "\n",
    "ax.grid()\n",
    "plt.axis((-4, 4, -4, 4))\n",
    "#plt.legend()\n",
    "ax.set_title('Un-Pure rotation')\n",
    "plt.show()"
   ]
  },
  {
   "cell_type": "code",
   "execution_count": 6,
   "metadata": {},
   "outputs": [
    {
     "data": {
      "image/png": "[encoded data removed]",
      "text/plain": [
       "<Figure size 432x288 with 1 Axes>"
      ]
     },
     "metadata": {
      "needs_background": "light"
     },
     "output_type": "display_data"
    }
   ],
   "source": [
    "plt.plot( np.linspace(0, 2*np.pi, 32), norm_u, label=\"Un-pure Rotation\" )\n",
    "plt.plot( np.linspace(0, 2*np.pi, 32), norm_p, label=\"Pure Rotation\" )\n",
    "plt.grid()\n",
    "plt.legend()\n",
    "plt.title( \"Vector Magnitude of Pure and Unpure Rotations\" )\n",
    "plt.show()"
   ]
  },
  {
   "cell_type": "markdown",
   "metadata": {},
   "source": [
    "---\n",
    "## Code Challenge 51\n",
    "Create a geometric transformations via matrix multiplications"
   ]
  },
  {
   "cell_type": "code",
   "execution_count": 2,
   "metadata": {},
   "outputs": [],
   "source": [
    "# --- Create XY Coordinates for circle\n",
    "theta = np.linspace(0, 2*np.pi, 100)\n",
    "circle = np.array( [np.cos(theta), np.sin(theta) ] )"
   ]
  },
  {
   "cell_type": "code",
   "execution_count": 37,
   "metadata": {},
   "outputs": [],
   "source": [
    "# --- Create 2x2 Matrix\n",
    "m1 = np.array( [ [1, 0], [0, 1] ])  # Identity Matrix\n",
    "# --- --- Random 2X2\n",
    "m2 = np.random.randint( 2, size=(2,2))  # random 2x2 Matrix (ints)\n",
    "m3 = np.random.randint( 3, size=(2,2))  # random 2x2 Matrix (ints)\n",
    "m4 = np.random.rand( 2,2)  # random 2x2 Matrix (floats)\n",
    "m5 = np.random.randint(3)*np.random.rand(2,2)  # random 2x2 Matrix (floats)\n",
    "# --- --- Singular Matrix\n",
    "m6 = np.array( [ [1, 1], [2, 2] ])  # Singular Matrix"
   ]
  },
  {
   "cell_type": "code",
   "execution_count": 38,
   "metadata": {},
   "outputs": [],
   "source": [
    "# --- Matrix Multiply\n",
    "rc1 = []\n",
    "rc2 = []\n",
    "rc3 = []\n",
    "rc4 = []\n",
    "rc5 = []\n",
    "rc6 = []\n",
    "for x,y,i in zip( circle[0,:], circle[1,:], range(theta.size) ):\n",
    "    temp = np.array( [x, y] )\n",
    "    rc1.append( temp@m1 )\n",
    "    rc2.append( temp@m2 )\n",
    "    rc3.append( temp@m3 )\n",
    "    rc4.append( temp@m4 )\n",
    "    rc5.append( temp@m5 )\n",
    "    rc6.append( temp@m6 )"
   ]
  },
  {
   "cell_type": "code",
   "execution_count": 39,
   "metadata": {},
   "outputs": [],
   "source": [
    "# --- Change into an array and transpose\n",
    "transforms = {}\n",
    "rc1 = np.array( rc1 )\n",
    "transforms[\"Identity\"] = rc1.T\n",
    "rc2 = np.array( rc2 )\n",
    "transforms[\"Rand, Int, 1\"] = rc2.T\n",
    "rc3 = np.array( rc3 )\n",
    "transforms[\"Rand, Int, 2\"] = rc3.T\n",
    "rc4 = np.array( rc4 )\n",
    "transforms[\"Rand, Float, 1\"] = rc4.T\n",
    "rc5 = np.array( rc5 )\n",
    "transforms[\"Rand, Float, 2\"] = rc5.T\n",
    "rc6 = np.array( rc6 )\n",
    "transforms[\"Singular\"] = rc6.T"
   ]
  },
  {
   "cell_type": "code",
   "execution_count": 40,
   "metadata": {},
   "outputs": [
    {
     "data": {
      "image/png": "[encoded data removed]",
      "text/plain": [
       "<Figure size 432x288 with 1 Axes>"
      ]
     },
     "metadata": {
      "needs_background": "light"
     },
     "output_type": "display_data"
    }
   ],
   "source": [
    "fig = plt.figure()\n",
    "plt.plot( circle[0,:], circle[1,:], 'bo', label='Orig' )\n",
    "for name, rc in transforms.items():\n",
    "    plt.plot( rc[0,:], rc[1,:], \"x\", label=name)\n",
    "plt.legend()\n",
    "plt.show()"
   ]
  },
  {
   "cell_type": "markdown",
   "metadata": {},
   "source": [
    "---\n",
    "## Code Challenge 55\n",
    "Create two symetric<br>\n",
    "Compute sum, multiplication, and Hadamard multiplication<br>\n",
    "Determine if the results are still symetric"
   ]
  },
  {
   "cell_type": "code",
   "execution_count": 2,
   "metadata": {},
   "outputs": [],
   "source": [
    "# --- Create Two Symetric Matrices\n",
    "m = 4\n",
    "n = 3\n",
    "\n",
    "A = np.random.randint( -10, 10, size=(3,4) )\n",
    "B = np.random.randint( -5, 5, size=(4,3) )\n",
    "\n",
    "# --- --- Make Symetric by Multiply\n",
    "S1 = A@A.T\n",
    "S2 = B.T@B"
   ]
  },
  {
   "cell_type": "code",
   "execution_count": 7,
   "metadata": {},
   "outputs": [
    {
     "name": "stdout",
     "output_type": "stream",
     "text": [
      "A+B Matrix\n",
      "[[ True  True  True]\n",
      " [ True  True  True]\n",
      " [ True  True  True]]\n",
      "B+A Matrix\n",
      "[[ True  True  True]\n",
      " [ True  True  True]\n",
      " [ True  True  True]]\n"
     ]
    }
   ],
   "source": [
    "# --- Compute Sum and test symetry\n",
    "SA1 = S1+S2\n",
    "print( \"A+B Matrix\" )\n",
    "print( SA1 == SA1.T )\n",
    "SB1 = S2+S1\n",
    "print( \"B+A Matrix\" )\n",
    "print( SB1 == SB1.T )"
   ]
  },
  {
   "cell_type": "code",
   "execution_count": 8,
   "metadata": {},
   "outputs": [
    {
     "name": "stdout",
     "output_type": "stream",
     "text": [
      "A@B Matrix\n",
      "[[ True False False]\n",
      " [False  True False]\n",
      " [False False  True]]\n",
      "B@A Matrix\n",
      "[[ True False False]\n",
      " [False  True False]\n",
      " [False False  True]]\n"
     ]
    }
   ],
   "source": [
    "# --- Compute Multiplication and test symetry\n",
    "SA2 = S1@S2\n",
    "print( \"A@B Matrix\" )\n",
    "print( SA2 == SA2.T )\n",
    "SB2 = S2@S1\n",
    "print( \"B@A Matrix\" )\n",
    "print( SB2 == SB2.T )"
   ]
  },
  {
   "cell_type": "code",
   "execution_count": 9,
   "metadata": {},
   "outputs": [
    {
     "name": "stdout",
     "output_type": "stream",
     "text": [
      "A*B Matrix\n",
      "[[ True  True  True]\n",
      " [ True  True  True]\n",
      " [ True  True  True]]\n",
      "B*A Matrix\n",
      "[[ True  True  True]\n",
      " [ True  True  True]\n",
      " [ True  True  True]]\n"
     ]
    }
   ],
   "source": [
    "# --- Compute Hadamard and test symetry\n",
    "SA3 = S1*S2\n",
    "print( \"A*B Matrix\" )\n",
    "print( SA3 == SA3.T )\n",
    "SB3 = S2*S1\n",
    "print( \"B*A Matrix\" )\n",
    "print( SB3 == SB3.T )"
   ]
  },
  {
   "cell_type": "markdown",
   "metadata": {},
   "source": [
    "---\n",
    "## Code Challenge 57 - Standard and Hadamard Multiplication of Diagonal Matrices\n",
    "Create two matricies (4x4) both \"Full\" and Diagonal<br>\n",
    "Multiply each matrix by itself (A\\*A) both matrix and Hadamard."
   ]
  },
  {
   "cell_type": "code",
   "execution_count": 4,
   "metadata": {},
   "outputs": [
    {
     "name": "stdout",
     "output_type": "stream",
     "text": [
      "[[  9   0   0   0]\n",
      " [  0 -10   0   0]\n",
      " [  0   0   8   0]\n",
      " [  0   0   0  -1]]\n"
     ]
    }
   ],
   "source": [
    "# --- Create 2 (4x4)\n",
    "A = np.random.randint( -10, 10, size=(4,4) )\n",
    "B = np.random.randint( -10, 10, size=(4,4) )\n",
    "\n",
    "# --- Diagnolize \n",
    "B = np.diag( np.matrix.diagonal( B ) )\n",
    "print( B )"
   ]
  },
  {
   "cell_type": "code",
   "execution_count": 6,
   "metadata": {},
   "outputs": [
    {
     "name": "stdout",
     "output_type": "stream",
     "text": [
      "Matrix Multiply A: \n",
      "[[ -70  -76 -122  -46]\n",
      " [  16  -36  -20   31]\n",
      " [  56   11  -15  -45]\n",
      " [  47   29   86  -60]]\n",
      "\n",
      "Matrix Multiply B: \n",
      "[[ 81   0   0   0]\n",
      " [  0 100   0   0]\n",
      " [  0   0  64   0]\n",
      " [  0   0   0   1]]\n"
     ]
    }
   ],
   "source": [
    "# --- Matrix Multiply\n",
    "MA = A@A\n",
    "print( \"Matrix Multiply A: \")\n",
    "print( MA )\n",
    "\n",
    "MB = B@B\n",
    "print()\n",
    "print( \"Matrix Multiply B: \")\n",
    "print( MB )"
   ]
  },
  {
   "cell_type": "code",
   "execution_count": 7,
   "metadata": {},
   "outputs": [
    {
     "name": "stdout",
     "output_type": "stream",
     "text": [
      "Hadamard Multiply A: \n",
      "[[ -70  -76 -122  -46]\n",
      " [  16  -36  -20   31]\n",
      " [  56   11  -15  -45]\n",
      " [  47   29   86  -60]]\n",
      "\n",
      "Hadamard Multiply B: \n",
      "[[ 81   0   0   0]\n",
      " [  0 100   0   0]\n",
      " [  0   0  64   0]\n",
      " [  0   0   0   1]]\n"
     ]
    }
   ],
   "source": [
    "# --- Hadamard Multiply\n",
    "HA = A*A\n",
    "print( \"Hadamard Multiply A: \")\n",
    "print( MA )\n",
    "\n",
    "HB = B*B\n",
    "print()\n",
    "print( \"Hadamard Multiply B: \")\n",
    "print( HB )"
   ]
  },
  {
   "cell_type": "markdown",
   "metadata": {},
   "source": [
    "---\n",
    "# Code Challenge 58 - Fourier Matrix\n",
    "Create a Fourier matrix where:<br>\n",
    "$$Fjk=\\omega^m$$\n",
    "$$\\omega=exp^{-2\\pi j/n}$$\n",
    "$$m=(j-1)(k-1)$$\n",
    "Plot the magitude of the $X = Fx$<br>\n",
    "Plot the "
   ]
  },
  {
   "cell_type": "code",
   "execution_count": 36,
   "metadata": {},
   "outputs": [],
   "source": [
    "# --- Create 10x10 matrix\n",
    "j = 100 # rows\n",
    "k = 100 # columns\n",
    "\n",
    "F = np.zeros( shape=(j,k) )"
   ]
  },
  {
   "cell_type": "code",
   "execution_count": 37,
   "metadata": {},
   "outputs": [],
   "source": [
    "# --- Create omega\n",
    "omega = np.exp( (-2*np.pi*1j)/F.shape[0] )"
   ]
  },
  {
   "cell_type": "code",
   "execution_count": 38,
   "metadata": {},
   "outputs": [
    {
     "name": "stderr",
     "output_type": "stream",
     "text": [
      "C:\\ProgramData\\Anaconda3\\lib\\site-packages\\ipykernel_launcher.py:5: ComplexWarning: Casting complex values to real discards the imaginary part\n",
      "  \"\"\"\n"
     ]
    }
   ],
   "source": [
    "# --- Build the array per the function\n",
    "for r in range(F.shape[0]):\n",
    "    for c in range(F.shape[1]):\n",
    "        m = (r+1-1.0)*(c+1-1.0)\n",
    "        F[r,c]=omega**m"
   ]
  },
  {
   "cell_type": "code",
   "execution_count": 46,
   "metadata": {},
   "outputs": [
    {
     "data": {
      "image/png": "[encoded data removed]",
      "text/plain": [
       "<Figure size 432x288 with 1 Axes>"
      ]
     },
     "metadata": {
      "needs_background": "light"
     },
     "output_type": "display_data"
    }
   ],
   "source": [
    "# --- Plot Magnitude of F\n",
    "# --- --- flatten F\n",
    "#temp = F.flatten()\n",
    "plt.figure()\n",
    "plt.pcolormesh( F.real )\n",
    "plt.show()"
   ]
  },
  {
   "cell_type": "code",
   "execution_count": 47,
   "metadata": {},
   "outputs": [],
   "source": [
    "# --- Create a random (10x10 Matrix)\n",
    "x = np.random.rand( j ) ## --- THIS SHOULD BE A VECTOR!! \n",
    "# --- Multiply by F\n",
    "X = F@x"
   ]
  },
  {
   "cell_type": "code",
   "execution_count": 48,
   "metadata": {},
   "outputs": [],
   "source": [
    "# --- Run FFT on x\n",
    "X_FFT = np.fft.fft( x )"
   ]
  },
  {
   "cell_type": "code",
   "execution_count": 50,
   "metadata": {},
   "outputs": [
    {
     "data": {
      "image/png": "[encoded data removed]",
      "text/plain": [
       "<Figure size 432x288 with 1 Axes>"
      ]
     },
     "metadata": {
      "needs_background": "light"
     },
     "output_type": "display_data"
    }
   ],
   "source": [
    "# --- Plot Magnitude of X\n",
    "# --- --- flatten X\n",
    "X1 = X.flatten()\n",
    "X2 = X_FFT.flatten()\n",
    "plt.figure()\n",
    "plt.plot( abs(X1) )\n",
    "plt.plot( abs(X2) )\n",
    "plt.show()"
   ]
  },
  {
   "cell_type": "markdown",
   "metadata": {},
   "source": [
    "---\n",
    "## Code Challenge 65 - Reduced Rank Matrix by Matrix Multiplication\n",
    "Create a reduced rank matrix using matrix multiplication.<br>\n",
    "Create a 10x10 matrix with rank=4 (use matrix multiplication)."
   ]
  },
  {
   "cell_type": "code",
   "execution_count": 3,
   "metadata": {},
   "outputs": [
    {
     "name": "stdout",
     "output_type": "stream",
     "text": [
      "A: \n",
      "[[49 99 86 31 64 76 73 24 43 50]\n",
      " [ 0 20  6 48 81 35 84 42 56 57]\n",
      " [ 3 21 11 56 27 62 52 48 31  6]\n",
      " [48 68  9 92 98 75 92 51 52 53]\n",
      " [ 6 38 33 80 11 66 25 74 75 90]\n",
      " [13 86 75 59 64 67 34  6 41 52]\n",
      " [56 50 47 37 10 85  8 74 57 65]\n",
      " [69 72 30 91 66 79 33 32 97 98]\n",
      " [26 60 79  1 63  9 95 81 63 99]\n",
      " [94 41 96  3 98 84 90 13 81 79]]\n",
      "Rank of A: 10\n"
     ]
    }
   ],
   "source": [
    "# --- Create 10x10 matrix and test rank\n",
    "m = 10\n",
    "A = np.random.randint( 100, size=(m,m) )\n",
    "r_A = np.linalg.matrix_rank( A )\n",
    "print( \"A: \")\n",
    "print(A)\n",
    "print( \"Rank of A: {}\".format(r_A) )"
   ]
  },
  {
   "cell_type": "code",
   "execution_count": 19,
   "metadata": {},
   "outputs": [
    {
     "name": "stdout",
     "output_type": "stream",
     "text": [
      "B: \n",
      "[[1. 0. 0. 0. 0. 0. 0. 0. 0. 0.]\n",
      " [0. 1. 0. 0. 0. 0. 0. 0. 0. 0.]\n",
      " [0. 0. 1. 0. 0. 0. 0. 0. 0. 0.]\n",
      " [0. 0. 0. 1. 0. 0. 0. 0. 0. 0.]\n",
      " [0. 0. 0. 0. 0. 0. 0. 0. 0. 0.]\n",
      " [0. 0. 0. 0. 0. 0. 0. 0. 0. 0.]\n",
      " [0. 0. 0. 0. 0. 0. 0. 0. 0. 0.]\n",
      " [0. 0. 0. 0. 0. 0. 0. 0. 0. 0.]\n",
      " [0. 0. 0. 0. 0. 0. 0. 0. 0. 0.]\n",
      " [0. 0. 0. 0. 0. 0. 0. 0. 0. 0.]]\n"
     ]
    }
   ],
   "source": [
    "# --- Create a rank 4 matrix by matrix multiplication\n",
    "# --- first make a 1's matrix\n",
    "B = np.ones( (m,m) )\n",
    "# --- Then zero out the last 6 columns\n",
    "B[:,4:10] = 0\n",
    "print(\"B: \")\n",
    "# --- Take the diagonal\n",
    "B = np.diag( np.matrix.diagonal( B ) )\n",
    "print(B)"
   ]
  },
  {
   "cell_type": "code",
   "execution_count": 17,
   "metadata": {},
   "outputs": [
    {
     "name": "stdout",
     "output_type": "stream",
     "text": [
      "Rank of AB: 4\n",
      "AB: [[49. 99. 86. 31.  0.  0.  0.  0.  0.  0.]\n",
      " [ 0. 20.  6. 48.  0.  0.  0.  0.  0.  0.]\n",
      " [ 3. 21. 11. 56.  0.  0.  0.  0.  0.  0.]\n",
      " [48. 68.  9. 92.  0.  0.  0.  0.  0.  0.]\n",
      " [ 6. 38. 33. 80.  0.  0.  0.  0.  0.  0.]\n",
      " [13. 86. 75. 59.  0.  0.  0.  0.  0.  0.]\n",
      " [56. 50. 47. 37.  0.  0.  0.  0.  0.  0.]\n",
      " [69. 72. 30. 91.  0.  0.  0.  0.  0.  0.]\n",
      " [26. 60. 79.  1.  0.  0.  0.  0.  0.  0.]\n",
      " [94. 41. 96.  3.  0.  0.  0.  0.  0.  0.]]\n"
     ]
    }
   ],
   "source": [
    "# --- Multiply\n",
    "print(\"Rank of AB: {}\".format(np.linalg.matrix_rank(B@A)))\n",
    "print(\"AB: {}\".format(A@B))"
   ]
  },
  {
   "cell_type": "code",
   "execution_count": null,
   "metadata": {},
   "outputs": [],
   "source": [
    "# --- Generalize equation\n"
   ]
  }
 ],
 "metadata": {
  "kernelspec": {
   "display_name": "Python 3",
   "language": "python",
   "name": "python3"
  },
  "language_info": {
   "codemirror_mode": {
    "name": "ipython",
    "version": 3
   },
   "file_extension": ".py",
   "mimetype": "text/x-python",
   "name": "python",
   "nbconvert_exporter": "python",
   "pygments_lexer": "ipython3",
   "version": "3.7.3"
  }
 },
 "nbformat": 4,
 "nbformat_minor": 2
}
