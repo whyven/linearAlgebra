{
 "cells": [
  {
   "cell_type": "markdown",
   "metadata": {},
   "source": [
    "# Code Challenges \n",
    "This notebook contains the worked out code challenges from the Udemy linear algebra course. "
   ]
  },
  {
   "cell_type": "markdown",
   "metadata": {},
   "source": [
    "---\n",
    "## Code Challenge 1 - Lec. 13\n",
    "Create 2 4x6 mactrices of random numbers.<br>\n",
    "Use a for-loop to compute dot products between corresponding columns"
   ]
  },
  {
   "cell_type": "code",
   "execution_count": 1,
   "metadata": {},
   "outputs": [],
   "source": [
    "import random as rand\n",
    "import numpy as np"
   ]
  },
  {
   "cell_type": "code",
   "execution_count": 6,
   "metadata": {},
   "outputs": [],
   "source": [
    "# -- Matrix size\n",
    "n = 4\n",
    "m = 6"
   ]
  },
  {
   "cell_type": "code",
   "execution_count": 7,
   "metadata": {},
   "outputs": [],
   "source": [
    "# -- Generate random matrix with values between -10 and 10\n",
    "A = np.random.randint(-10, high=10, size=(n,m) )\n",
    "B = np.random.randint(-10, high=10, size=(n,m) )"
   ]
  },
  {
   "cell_type": "code",
   "execution_count": 11,
   "metadata": {},
   "outputs": [
    {
     "name": "stdout",
     "output_type": "stream",
     "text": [
      "A\n",
      "[[ -4   0   7   8   8   3]\n",
      " [  1   5 -10  -3 -10   7]\n",
      " [  0  -3   2 -10 -10   2]\n",
      " [ -9  -7   3  -1  -3  -6]]\n",
      "B\n",
      "[[ 4 -8 -3  0 -3  2]\n",
      " [-1  1  4  3 -8 -3]\n",
      " [ 1 -1 -8  8  6 -5]\n",
      " [-8  9  5  8 -1 -8]]\n"
     ]
    }
   ],
   "source": [
    "print( \"A\" )\n",
    "print( \"{a}\".format(a=A) )\n",
    "print( \"B\" )\n",
    "print( \"{b}\".format(b=B) )"
   ]
  },
  {
   "cell_type": "markdown",
   "metadata": {},
   "source": [
    "To get the column out of a matrix you can use:<br>\n",
    "``` python\n",
    "A[:,i]\n",
    "```\n",
    "The colons in the row spot means give me everything in rows, and i represents the column index"
   ]
  },
  {
   "cell_type": "code",
   "execution_count": 16,
   "metadata": {},
   "outputs": [],
   "source": [
    "c = np.zeros( A.shape[1] )  # --- Initialize a vector to store all dot products\n",
    "# --- Loop through columns\n",
    "for i in range(A.shape[1]):\n",
    "    c[i] = A[:,i].dot(B[:,i])"
   ]
  },
  {
   "cell_type": "code",
   "execution_count": 18,
   "metadata": {},
   "outputs": [
    {
     "name": "stdout",
     "output_type": "stream",
     "text": [
      "The dot products of the columns are: \n",
      "[ 55. -55. -62. -97.  -1.  23.]\n"
     ]
    }
   ],
   "source": [
    "print(\"The dot products of the columns are: \\n{}\".format(c))"
   ]
  },
  {
   "cell_type": "code",
   "execution_count": 20,
   "metadata": {},
   "outputs": [
    {
     "name": "stdout",
     "output_type": "stream",
     "text": [
      "Confirm results: \n",
      "Row1 = 55\n"
     ]
    }
   ],
   "source": [
    "print(\"Confirm results: \\nRow1 = {}\".format((-4*4)+(1*-1)+(0*1)+(-9*-8)) )"
   ]
  }
 ],
 "metadata": {
  "kernelspec": {
   "display_name": "Python 3",
   "language": "python",
   "name": "python3"
  },
  "language_info": {
   "codemirror_mode": {
    "name": "ipython",
    "version": 3
   },
   "file_extension": ".py",
   "mimetype": "text/x-python",
   "name": "python",
   "nbconvert_exporter": "python",
   "pygments_lexer": "ipython3",
   "version": "3.6.5"
  }
 },
 "nbformat": 4,
 "nbformat_minor": 2
}
