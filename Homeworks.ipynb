{
 "cells": [
  {
   "cell_type": "markdown",
   "metadata": {},
   "source": [
    "# Homework\n",
    "This notebook has code to check the udemy linear algebra homework."
   ]
  },
  {
   "cell_type": "markdown",
   "metadata": {},
   "source": [
    "---\n",
    "## Vectors\n",
    "### Exercises 3 - 5"
   ]
  },
  {
   "cell_type": "markdown",
   "metadata": {},
   "source": [
    "#### Problem 3\n",
    "Solve vector addition<br>\n",
    "Draw 2D vectors in standard position"
   ]
  },
  {
   "cell_type": "code",
   "execution_count": 1,
   "metadata": {},
   "outputs": [],
   "source": [
    "import numpy as np\n",
    "import matplotlib.pyplot as plt"
   ]
  },
  {
   "cell_type": "code",
   "execution_count": 2,
   "metadata": {},
   "outputs": [],
   "source": [
    "a = np.array( [4, 5, 1, 0] ) + np.array( [-4,-3,3,10] )\n",
    "b = np.array( [4, 2, 0] ) - np.array( [6,-4,60] ) + np.array( [2,-5,40] )\n",
    "c = np.array( [1,0] ) + np.array( [1,2] )\n",
    "d = np.array( [2,2] ) - np.array( [3,4] )\n",
    "e = np.array( [-3,1] ) + np.array( [3,-1] )\n",
    "f = np.array( [1,4] ) + np.array( [2,8] )"
   ]
  },
  {
   "cell_type": "code",
   "execution_count": 3,
   "metadata": {},
   "outputs": [
    {
     "name": "stdout",
     "output_type": "stream",
     "text": [
      "a = [ 0  2  4 10]\n",
      "b = [  0   1 -20]\n",
      "c = [2 2]\n",
      "d = [-1 -2]\n",
      "e = [0 0]\n",
      "f = [ 3 12]\n"
     ]
    }
   ],
   "source": [
    "print(\"a = {a}\\nb = {b}\\nc = {c}\\nd = {d}\\ne = {e}\\nf = {f}\".format(a=a,b=b,c=c,d=d,e=e,f=f))"
   ]
  },
  {
   "cell_type": "code",
   "execution_count": 4,
   "metadata": {},
   "outputs": [],
   "source": [
    "c_a = np.array( [1,0] )\n",
    "C_b = np.array( [1,2] )\n",
    "\n",
    "d_a = np.array( [2,2] )\n",
    "d_b = np.array( [3,4] )\n",
    "\n",
    "e_a = np.array( [-3,1] )\n",
    "e_b = np.array( [3,-1] )\n",
    "\n",
    "f_a = np.array( [1,4] )\n",
    "f_b = np.array( [2,8] )"
   ]
  },
  {
   "cell_type": "code",
   "execution_count": null,
   "metadata": {},
   "outputs": [],
   "source": [
    "fig, ax = plt.subplots(nrows=2, ncols=2)\n",
    "# --- C\n",
    "ax[0,0].plot([0,c_a[0]],[0,c_a[1]],'b')\n",
    "ax[0,0].plot([0,c_b[0]],[0,c_b[1]],'g')\n",
    "ax[0,0].plot([0,c[0]],[0,c[1]],'-r')\n",
    "\n",
    "# --- C\n",
    "ax[1,0].plot([0,c_a[0]],[0,c_a[1]],'b')\n",
    "ax[1,0].plot([0,c_b[0]],[0,c_b[1]],'g')\n",
    "ax[1,0].plot([0,c[0]],[0,c[1]],'-r')\n",
    "\n",
    "# --- C\n",
    "ax[0,1].plot([0,c_a[0]],[0,c_a[1]],'b')\n",
    "ax[0,1].plot([0,c_b[0]],[0,c_b[1]],'g')\n",
    "ax[0,1].plot([0,c[0]],[0,c[1]],'-r')\n",
    "\n",
    "# --- C\n",
    "ax[0,0].plot([0,c_a[0]],[0,c_a[1]],'b')\n",
    "ax[0,0].plot([0,c_b[0]],[0,c_b[1]],'g')\n",
    "ax[0,0].plot([0,c[0]],[0,c[1]],'-r')"
   ]
  }
 ],
 "metadata": {
  "kernelspec": {
   "display_name": "Python 3",
   "language": "python",
   "name": "python3"
  },
  "language_info": {
   "codemirror_mode": {
    "name": "ipython",
    "version": 3
   },
   "file_extension": ".py",
   "mimetype": "text/x-python",
   "name": "python",
   "nbconvert_exporter": "python",
   "pygments_lexer": "ipython3",
   "version": "3.7.3"
  }
 },
 "nbformat": 4,
 "nbformat_minor": 2
}
