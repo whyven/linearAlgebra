{
 "cells": [
  {
   "cell_type": "code",
   "execution_count": 1,
   "metadata": {},
   "outputs": [],
   "source": [
    "import numpy as np\n",
    "from sympy import *\n",
    "import matplotlib.pyplot as plt"
   ]
  },
  {
   "cell_type": "markdown",
   "metadata": {},
   "source": [
    "\n",
    "---\n",
    "# VIDEO: Concept and uses of the inverse\n",
    "---\n"
   ]
  },
  {
   "cell_type": "code",
   "execution_count": 5,
   "metadata": {},
   "outputs": [
    {
     "name": "stdout",
     "output_type": "stream",
     "text": [
      "[[ 1.00000000e+00 -1.30285150e-16 -3.00725244e-16]\n",
      " [-4.53176583e-17  1.00000000e+00 -7.27333327e-16]\n",
      " [ 1.94144875e-18  1.11066749e-16  1.00000000e+00]]\n"
     ]
    },
    {
     "data": {
      "image/png": "[encoded data removed]",
      "text/plain": [
       "<Figure size 432x288 with 3 Axes>"
      ]
     },
     "metadata": {
      "needs_background": "light"
     },
     "output_type": "display_data"
    }
   ],
   "source": [
    "# size of square matrix\n",
    "m = 3\n",
    "\n",
    "# generate random matrix\n",
    "A = np.random.randn(m,m)\n",
    "\n",
    "# compute its inverse\n",
    "Ainv = np.linalg.inv(A)\n",
    "\n",
    "# and check the multiplication\n",
    "id = A@Ainv\n",
    "\n",
    "# print the matrix. Note the computer rounding errors on the off-diagonals\n",
    "print(id)\n",
    "\n",
    "\n",
    "# show in an image\n",
    "plt.subplot(131)\n",
    "plt.imshow(A)\n",
    "plt.title('Matrix A')\n",
    "\n",
    "plt.subplot(132)\n",
    "plt.imshow(Ainv)\n",
    "plt.title('Matrix $A^{-1}$')\n",
    "\n",
    "plt.subplot(133)\n",
    "plt.imshow(id)\n",
    "plt.title('AA$^{-1}$')\n",
    "\n",
    "plt.show()"
   ]
  },
  {
   "cell_type": "markdown",
   "metadata": {},
   "source": [
    "\n",
    "---\n",
    "# VIDEO: Computing the inverse via row reduction\n",
    "---\n"
   ]
  },
  {
   "cell_type": "code",
   "execution_count": 172,
   "metadata": {},
   "outputs": [
    {
     "name": "stdout",
     "output_type": "stream",
     "text": [
      "Size of Aaug: (4, 8)\n"
     ]
    },
    {
     "data": {
      "image/png": "[encoded data removed]",
      "text/plain": [
       "<matplotlib.figure.Figure at 0x7f4bbdbfcb38>"
      ]
     },
     "metadata": {},
     "output_type": "display_data"
    },
    {
     "data": {
      "image/png": "[encoded data removed]",
      "text/plain": [
       "<matplotlib.figure.Figure at 0x7f4bbdcb84e0>"
      ]
     },
     "metadata": {},
     "output_type": "display_data"
    }
   ],
   "source": [
    "## notice the difference in implementation in this video using sympy, compared to the previous video using numpy ##\n",
    "\n",
    "# matrix size\n",
    "m = 4\n",
    "\n",
    "# random integers matrix\n",
    "A = Matrix( np.round(10*np.random.randn(m,m)),dtype='float' )\n",
    "\n",
    "# augment A and identity\n",
    "Aaug = Matrix( np.concatenate((A,np.eye(m,m)),axis=1) )\n",
    "print('Size of Aaug:',Aaug.shape)\n",
    "\n",
    "# rref\n",
    "Asol = Aaug.rref()\n",
    "Asol = Asol[0]\n",
    "Ainvrref = Asol[:,m:m*2]\n",
    "Ainv = A.inv()\n",
    "\n",
    "# show the augemented matrices\n",
    "plt.subplot(211)\n",
    "plt.imshow(matrix2numpy(Aaug,dtype='float'))\n",
    "plt.title('A|I'), plt.axis('off')\n",
    "\n",
    "plt.subplot(212)\n",
    "plt.imshow(matrix2numpy(Asol,dtype='float'))\n",
    "plt.title('I|A$^{-1}$'), plt.axis('off')\n",
    "\n",
    "plt.show()\n",
    "\n",
    "\n",
    "# show the square matrices\n",
    "plt.subplot(131)\n",
    "plt.imshow(matrix2numpy(A,dtype='float'))\n",
    "plt.title('Matrix A'), plt.axis('off')\n",
    "\n",
    "plt.subplot(132)\n",
    "plt.imshow(matrix2numpy(Ainvrref,dtype='float'))\n",
    "plt.title('A$^{-1}$ from rref'), plt.axis('off')\n",
    "\n",
    "plt.subplot(133)\n",
    "plt.imshow(matrix2numpy(Ainv,dtype='float'))\n",
    "plt.title('A$^{-1}$ from inv()'), plt.axis('off')\n",
    "\n",
    "plt.show()"
   ]
  },
  {
   "cell_type": "markdown",
   "metadata": {},
   "source": [
    "\n",
    "---\n",
    "# VIDEO: Left inverse and right inverse\n",
    "---\n"
   ]
  },
  {
   "cell_type": "code",
   "execution_count": 3,
   "metadata": {},
   "outputs": [
    {
     "name": "stdout",
     "output_type": "stream",
     "text": [
      "Rank of A^TA: 3\n",
      "Rank of AA^T: 3\n"
     ]
    },
    {
     "data": {
      "image/png": "[encoded data removed]",
      "text/plain": [
       "<Figure size 432x288 with 7 Axes>"
      ]
     },
     "metadata": {
      "needs_background": "light"
     },
     "output_type": "display_data"
    }
   ],
   "source": [
    "# m>n for left inverse,\n",
    "# m<n for right inverse\n",
    "m = 6\n",
    "n = 3\n",
    "\n",
    "# create matrices\n",
    "A = np.random.randn(m,n)\n",
    "AtA = np.matrix.transpose(A)@A\n",
    "AAt = A@np.matrix.transpose(A)\n",
    "\n",
    "# inspect ranks\n",
    "print('Rank of A^TA:', np.linalg.matrix_rank(AtA) ) \n",
    "print('Rank of AA^T:', np.linalg.matrix_rank(AAt) ) \n",
    "\n",
    "# left inverse\n",
    "Aleft = np.linalg.inv(AtA)@np.matrix.transpose(A)\n",
    "\n",
    "# right inverse\n",
    "Aright = np.matrix.transpose(A)@np.linalg.inv(AAt)\n",
    "\n",
    "# now test!\n",
    "I_left  = Aleft  @ A\n",
    "I_right = A @ Aright\n",
    "\n",
    "# and then test using the inverse function\n",
    "AtA_inv = np.linalg.inv(AtA)\n",
    "I_AtA   = AtA_inv @ AtA\n",
    "\n",
    "AAt_inv = np.linalg.inv(AAt)\n",
    "I_AAt   = AAt_inv @ AAt\n",
    "\n",
    "\n",
    "## show images\n",
    "plt.subplot(331)\n",
    "plt.imshow(A), plt.axis('off')\n",
    "plt.title('A')\n",
    "\n",
    "plt.subplot(332)\n",
    "plt.imshow(AtA), plt.axis('off')\n",
    "plt.title('A$^T$A')\n",
    "\n",
    "plt.subplot(333)\n",
    "plt.imshow(AAt), plt.axis('off')\n",
    "plt.title('AA$^T$')\n",
    "\n",
    "plt.subplot(335)\n",
    "plt.imshow(Aleft), plt.axis('off')\n",
    "plt.title('$(A^TA)^{-1}A^T$')\n",
    "\n",
    "plt.subplot(336)\n",
    "plt.imshow(Aright), plt.axis('off')\n",
    "plt.title('$A^T(AA^T)^{-1}$')\n",
    "\n",
    "plt.subplot(338)\n",
    "plt.imshow(I_left), plt.axis('off')\n",
    "plt.title('[ $(A^TA)^{-1}A^T ]$  A')\n",
    "\n",
    "plt.subplot(339)\n",
    "plt.imshow(I_right), plt.axis('off')\n",
    "plt.title('A  [ $A^T(AA^T)^{-1}$ ]')\n",
    "\n",
    "plt.show()"
   ]
  },
  {
   "cell_type": "code",
   "execution_count": 15,
   "metadata": {},
   "outputs": [
    {
     "data": {
      "text/plain": [
       "array([[ 1.        , -0.10484702, -0.82910538,  0.25663835, -0.01318118,\n",
       "         0.72652958,  0.8313466 ,  0.53305497],\n",
       "       [-0.10484702,  1.        , -0.38703241,  0.85783457, -0.56767182,\n",
       "         0.53802586, -0.56529035, -0.7033945 ],\n",
       "       [-0.82910538, -0.38703241,  1.        , -0.52636408,  0.04393741,\n",
       "        -0.8086684 , -0.54163255,  0.02628395],\n",
       "       [ 0.25663835,  0.85783457, -0.52636408,  1.        , -0.82217072,\n",
       "         0.84967049, -0.31966308, -0.23836037],\n",
       "       [-0.01318118, -0.56767182,  0.04393741, -0.82217072,  1.        ,\n",
       "        -0.60995686,  0.49274446, -0.07751682],\n",
       "       [ 0.72652958,  0.53802586, -0.8086684 ,  0.84967049, -0.60995686,\n",
       "         1.        ,  0.2231014 ,  0.14789998],\n",
       "       [ 0.8313466 , -0.56529035, -0.54163255, -0.31966308,  0.49274446,\n",
       "         0.2231014 ,  1.        ,  0.60555859],\n",
       "       [ 0.53305497, -0.7033945 ,  0.02628395, -0.23836037, -0.07751682,\n",
       "         0.14789998,  0.60555859,  1.        ]])"
      ]
     },
     "execution_count": 15,
     "metadata": {},
     "output_type": "execute_result"
    }
   ],
   "source": [
    "A = np.random.randn(4,4)\n",
    "B = np.random.randn(4,4)\n",
    "np.corrcoef(A,B)\n",
    "np.corrcoef(A.)"
   ]
  },
  {
   "cell_type": "markdown",
   "metadata": {},
   "source": [
    "\n",
    "---\n",
    "# VIDEO: The pseudoinverse, part 1\n",
    "---\n"
   ]
  },
  {
   "cell_type": "code",
   "execution_count": 200,
   "metadata": {},
   "outputs": [
    {
     "data": {
      "image/png": "[encoded data removed]",
      "text/plain": [
       "<matplotlib.figure.Figure at 0x7f4bbdc63198>"
      ]
     },
     "metadata": {},
     "output_type": "display_data"
    }
   ],
   "source": [
    "# pseudoinverse of rectangular matrix A\n",
    "\n",
    "pseudoInvA = np.linalg.pinv(A)\n",
    "\n",
    "plt.subplot(131)\n",
    "plt.imshow(A), plt.axis('off')\n",
    "plt.title('A')\n",
    "\n",
    "plt.subplot(132)\n",
    "plt.imshow(pseudoInvA), plt.axis('off')\n",
    "plt.title('Pseudoinverse of A')\n",
    "\n",
    "plt.subplot(133)\n",
    "plt.imshow(pseudoInvA@A), plt.axis('off')\n",
    "plt.title('A$^*$A')\n",
    "\n",
    "plt.show()"
   ]
  },
  {
   "cell_type": "code",
   "execution_count": 215,
   "metadata": {},
   "outputs": [
    {
     "name": "stdout",
     "output_type": "stream",
     "text": [
      "rank = 49\n"
     ]
    },
    {
     "data": {
      "image/png": "[encoded data removed]",
      "text/plain": [
       "<matplotlib.figure.Figure at 0x7f4bbdedeb70>"
      ]
     },
     "metadata": {},
     "output_type": "display_data"
    }
   ],
   "source": [
    "\n",
    "# create random matrix\n",
    "n = 50\n",
    "A = np.random.randn(n,n)\n",
    "\n",
    "# make rank deficient by repeating a column\n",
    "A[:,n-1] = A[:,n-2]\n",
    "\n",
    "# rank of A!\n",
    "print('rank =',np.linalg.matrix_rank(A))\n",
    "\n",
    "\n",
    "# compute the pseudoinverse\n",
    "Ai = np.linalg.pinv(A)\n",
    "\n",
    "\n",
    "# and show the matrices\n",
    "plt.subplot(221)\n",
    "plt.imshow(A), plt.axis('off')\n",
    "plt.title('A')\n",
    "\n",
    "plt.subplot(222)\n",
    "plt.imshow(Ai), plt.axis('off')\n",
    "plt.title('A$^*$')\n",
    "\n",
    "plt.subplot(223)\n",
    "plt.imshow(Ai@A), plt.axis('off')\n",
    "plt.title('A$^*$A')\n",
    "\n",
    "plt.subplot(224)\n",
    "plt.imshow(A@Ai), plt.axis('off')\n",
    "plt.title('AA$^*$')\n",
    "\n",
    "plt.show()"
   ]
  }
 ],
 "metadata": {
  "kernelspec": {
   "display_name": "Python 3",
   "language": "python",
   "name": "python3"
  },
  "language_info": {
   "codemirror_mode": {
    "name": "ipython",
    "version": 3
   },
   "file_extension": ".py",
   "mimetype": "text/x-python",
   "name": "python",
   "nbconvert_exporter": "python",
   "pygments_lexer": "ipython3",
   "version": "3.7.0"
  }
 },
 "nbformat": 4,
 "nbformat_minor": 2
}
